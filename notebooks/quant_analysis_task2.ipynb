{
 "cells": [
  {
   "cell_type": "code",
   "execution_count": 11,
   "id": "fabcf547",
   "metadata": {},
   "outputs": [],
   "source": [
    "import pandas as pd\n",
    "import matplotlib.pyplot as plt\n",
    "import yfinance as yf\n",
    "import talib"
   ]
  },
  {
   "cell_type": "code",
   "execution_count": null,
   "id": "2d441763",
   "metadata": {},
   "outputs": [
    {
     "name": "stderr",
     "output_type": "stream",
     "text": [
      "[*********************100%***********************]  1 of 1 completed\n"
     ]
    }
   ],
   "source": [
    "df = pd.read_csv('../data/yfinance_data/AAPL_historical_data.csv')"
   ]
  },
  {
   "cell_type": "code",
   "execution_count": 13,
   "id": "97f56b0a",
   "metadata": {},
   "outputs": [
    {
     "name": "stdout",
     "output_type": "stream",
     "text": [
      "<class 'pandas.core.frame.DataFrame'>\n"
     ]
    },
    {
     "ename": "Exception",
     "evalue": "input array has wrong dimensions",
     "output_type": "error",
     "traceback": [
      "\u001b[31m---------------------------------------------------------------------------\u001b[39m",
      "\u001b[31mException\u001b[39m                                 Traceback (most recent call last)",
      "\u001b[36mCell\u001b[39m\u001b[36m \u001b[39m\u001b[32mIn[13]\u001b[39m\u001b[32m, line 4\u001b[39m\n\u001b[32m      1\u001b[39m df[\u001b[33m'\u001b[39m\u001b[33mClose\u001b[39m\u001b[33m'\u001b[39m] = df[\u001b[33m'\u001b[39m\u001b[33mClose\u001b[39m\u001b[33m'\u001b[39m].astype(\u001b[38;5;28mfloat\u001b[39m)  \u001b[38;5;66;03m# Make sure it's float Series\u001b[39;00m\n\u001b[32m      2\u001b[39m \u001b[38;5;28mprint\u001b[39m(\u001b[38;5;28mtype\u001b[39m(df[\u001b[33m'\u001b[39m\u001b[33mClose\u001b[39m\u001b[33m'\u001b[39m]))\n\u001b[32m----> \u001b[39m\u001b[32m4\u001b[39m df[\u001b[33m'\u001b[39m\u001b[33mMA20\u001b[39m\u001b[33m'\u001b[39m] = \u001b[43mtalib\u001b[49m\u001b[43m.\u001b[49m\u001b[43mSMA\u001b[49m\u001b[43m(\u001b[49m\u001b[43mdf\u001b[49m\u001b[43m[\u001b[49m\u001b[33;43m'\u001b[39;49m\u001b[33;43mClose\u001b[39;49m\u001b[33;43m'\u001b[39;49m\u001b[43m]\u001b[49m\u001b[43m.\u001b[49m\u001b[43mvalues\u001b[49m\u001b[43m,\u001b[49m\u001b[43m \u001b[49m\u001b[43mtimeperiod\u001b[49m\u001b[43m=\u001b[49m\u001b[32;43m20\u001b[39;49m\u001b[43m)\u001b[49m\n",
      "\u001b[36mFile \u001b[39m\u001b[32m~/10 Acadamy/week1/Financial-Prediction-Analytics/.venv/lib/python3.13/site-packages/talib/__init__.py:80\u001b[39m, in \u001b[36m_wrapper.<locals>.wrapper\u001b[39m\u001b[34m(*args, **kwds)\u001b[39m\n\u001b[32m     77\u001b[39m     _args = args\n\u001b[32m     78\u001b[39m     _kwds = kwds\n\u001b[32m---> \u001b[39m\u001b[32m80\u001b[39m result = \u001b[43mfunc\u001b[49m\u001b[43m(\u001b[49m\u001b[43m*\u001b[49m\u001b[43m_args\u001b[49m\u001b[43m,\u001b[49m\u001b[43m \u001b[49m\u001b[43m*\u001b[49m\u001b[43m*\u001b[49m\u001b[43m_kwds\u001b[49m\u001b[43m)\u001b[49m\n\u001b[32m     82\u001b[39m \u001b[38;5;66;03m# check to see if we got a streaming result\u001b[39;00m\n\u001b[32m     83\u001b[39m first_result = result[\u001b[32m0\u001b[39m] \u001b[38;5;28;01mif\u001b[39;00m \u001b[38;5;28misinstance\u001b[39m(result, \u001b[38;5;28mtuple\u001b[39m) \u001b[38;5;28;01melse\u001b[39;00m result\n",
      "\u001b[36mFile \u001b[39m\u001b[32m~/10 Acadamy/week1/Financial-Prediction-Analytics/.venv/lib/python3.13/site-packages/talib/_func.pxi:4638\u001b[39m, in \u001b[36mtalib._ta_lib.SMA\u001b[39m\u001b[34m()\u001b[39m\n",
      "\u001b[36mFile \u001b[39m\u001b[32m~/10 Acadamy/week1/Financial-Prediction-Analytics/.venv/lib/python3.13/site-packages/talib/_func.pxi:24\u001b[39m, in \u001b[36mtalib._ta_lib.check_array\u001b[39m\u001b[34m()\u001b[39m\n",
      "\u001b[31mException\u001b[39m: input array has wrong dimensions"
     ]
    }
   ],
   "source": [
    "df['Close'] = df['Close'].astype(float)  # Make sure it's float Series\n",
    "print(type(df['Close']))\n",
    "\n",
    "df['MA20'] = talib.SMA(df['Close'].values, timeperiod=20)\n",
    "\n",
    "\n"
   ]
  },
  {
   "cell_type": "code",
   "execution_count": null,
   "id": "17faef3e",
   "metadata": {},
   "outputs": [],
   "source": [
    "df['RSI'] = talib.RSI(df['Close'], timeperiod=14)"
   ]
  },
  {
   "cell_type": "code",
   "execution_count": null,
   "id": "b3d69350",
   "metadata": {},
   "outputs": [],
   "source": [
    "df['MACD'], df['MACD_signal'], _ = talib.MACD(df['Close'])"
   ]
  },
  {
   "cell_type": "code",
   "execution_count": null,
   "id": "df0fe0f8",
   "metadata": {},
   "outputs": [],
   "source": [
    "plt.figure(figsize=(12, 6))\n",
    "plt.plot(df['Date'], df['Close'], label='Close Price')\n",
    "plt.plot(df['Date'], df['MA20'], label='MA20', linestyle='--')\n",
    "plt.title(\"AAPL Close Price with 20-Day MA\")\n",
    "plt.legend()\n",
    "plt.grid(True)\n",
    "plt.show()\n"
   ]
  },
  {
   "cell_type": "code",
   "execution_count": null,
   "id": "5d884ce9",
   "metadata": {},
   "outputs": [],
   "source": [
    "plt.figure(figsize=(12, 3))\n",
    "plt.plot(df['Date'], df['RSI'], label='RSI')\n",
    "plt.axhline(70, color='red', linestyle='--')\n",
    "plt.axhline(30, color='green', linestyle='--')\n",
    "plt.title(\"AAPL RSI Indicator\")\n",
    "plt.grid(True)\n",
    "plt.show()"
   ]
  },
  {
   "cell_type": "code",
   "execution_count": null,
   "id": "e6dcce74",
   "metadata": {},
   "outputs": [],
   "source": [
    "plt.figure(figsize=(12, 3))\n",
    "plt.plot(df['Date'], df['MACD'], label='MACD')\n",
    "plt.plot(df['Date'], df['MACD_signal'], label='Signal Line')\n",
    "plt.title(\"AAPL MACD Indicator\")\n",
    "plt.legend()\n",
    "plt.grid(True)\n",
    "plt.show()"
   ]
  }
 ],
 "metadata": {
  "kernelspec": {
   "display_name": ".venv",
   "language": "python",
   "name": "python3"
  },
  "language_info": {
   "codemirror_mode": {
    "name": "ipython",
    "version": 3
   },
   "file_extension": ".py",
   "mimetype": "text/x-python",
   "name": "python",
   "nbconvert_exporter": "python",
   "pygments_lexer": "ipython3",
   "version": "3.13.3"
  }
 },
 "nbformat": 4,
 "nbformat_minor": 5
}
